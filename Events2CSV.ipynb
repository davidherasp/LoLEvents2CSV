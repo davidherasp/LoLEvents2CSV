{
 "cells": [
  {
   "cell_type": "code",
   "execution_count": 354,
   "metadata": {
    "collapsed": true
   },
   "outputs": [],
   "source": [
    "import requests\n",
    "import json\n",
    "import pandas as pd\n",
    "import datetime"
   ]
  },
  {
   "cell_type": "code",
   "execution_count": 355,
   "metadata": {
    "collapsed": false,
    "scrolled": false
   },
   "outputs": [],
   "source": [
    "# Getting the match timeline as a JSON\n",
    "r = requests.get(url=\"https://acs.leagueoflegends.com/v1/stats/game/TRLH3/1001970008/timeline?gameHash=7aa4a96045584cfe\")\n",
    "response = json.loads(r.content)"
   ]
  },
  {
   "cell_type": "code",
   "execution_count": 356,
   "metadata": {
    "collapsed": false
   },
   "outputs": [],
   "source": [
    "# Creating vars with the info we need (wards)\n",
    "\n",
    "## Getting the frames\n",
    "frames = response[\"frames\"]\n",
    "\n",
    "## Mapping all events into a list\n",
    "events = list(map(lambda y: y[\"events\"], frames)) \n",
    "\n",
    "## Mapping the participant frames into a list\n",
    "participants = list(map(lambda y: y[\"participantFrames\"], frames)) \n",
    "\n",
    "## Grouping al vision related events into a single list\n",
    "vision_events = list(map(lambda x: list(filter(lambda y: (y[\"type\"] == \"WARD_PLACED\" or y[\"type\"] == \"WARD_KILL\"), x)), events))    "
   ]
  },
  {
   "cell_type": "code",
   "execution_count": 357,
   "metadata": {
    "collapsed": false
   },
   "outputs": [],
   "source": [
    "# Merging both vision events with the info of the participant of the event\n",
    "\n",
    "## Creating a list that we will poblate later with all the data\n",
    "result = []\n",
    "\n",
    "##Iterating through events frames with the index information\n",
    "for index, events in enumerate(vision_events):\n",
    "    ### For every event in that event frame do:\n",
    "    for event in events:\n",
    "        #### Check whether if is a placement or a kill to get the participant ID to get the participant info\n",
    "        if event[\"type\"] == \"WARD_PLACED\": pid = event[\"creatorId\"]\n",
    "        else: pid = event[\"killerId\"]\n",
    "        #### Getting the participant info\n",
    "        participant = participants[index].get(str(pid))\n",
    "        #### Merging that info\n",
    "        merged = dict(list(event.items()) + list(participant.items()))\n",
    "        #### Adding the frame number\n",
    "        merged[\"nFrame\"] = index\n",
    "        #### Appending the data as a new item to the list previously created\n",
    "        result.append(merged)\n",
    "\n",
    "## Transforming the list into a Pandas DataFrame \n",
    "resultdf = pd.DataFrame.from_dict(result)"
   ]
  },
  {
   "cell_type": "code",
   "execution_count": 358,
   "metadata": {
    "collapsed": false,
    "scrolled": true
   },
   "outputs": [],
   "source": [
    "resultdf['x_pos'] = resultdf['position'].apply(lambda d: d['x'])\n",
    "resultdf['y_pos'] = resultdf['position'].apply(lambda d: d['y'])\n",
    "\n",
    "resultdf['timestamp'] = resultdf['timestamp'].apply(lambda d: '{:02d}:{:02d}'.format(int(divmod(d/1000, 60)[0]), int(divmod(d/1000, 60)[1])))"
   ]
  },
  {
   "cell_type": "code",
   "execution_count": 359,
   "metadata": {
    "collapsed": false
   },
   "outputs": [],
   "source": [
    "# Some corrections over the data\n",
    "\n",
    "## Removing the participantID column since the data is redundant because we already have the ID in the creatorId or in the killerId\n",
    "del resultdf[\"participantId\"]\n",
    "## Removing as well the position since we previously added two new columns with that data\n",
    "del resultdf[\"position\"]"
   ]
  },
  {
   "cell_type": "code",
   "execution_count": 360,
   "metadata": {
    "collapsed": false
   },
   "outputs": [],
   "source": [
    "# In order to convert the ids into integers we need to replace NA values with something acceptable that clearly indicates that the value represents something completly different as expectet, like -1\n",
    "resultdf = resultdf.fillna(-1)"
   ]
  },
  {
   "cell_type": "code",
   "execution_count": 361,
   "metadata": {
    "collapsed": false
   },
   "outputs": [],
   "source": [
    "# Then we convert the float values of the id columns into integer values\n",
    "resultdf[\"creatorId\"] = resultdf[\"creatorId\"].astype(int)\n",
    "resultdf[\"killerId\"] = resultdf[\"killerId\"].astype(int)\n",
    "# Then we replace the -1 for NA \n",
    "resultdf = resultdf.replace(to_replace=-1, value=\"NA\")\n",
    "# And finally we export the dataframe into a CSV\n",
    "resultdf.to_csv(\"vision_events.csv\")"
   ]
  }
 ],
 "metadata": {
  "kernelspec": {
   "display_name": "Python 3",
   "language": "python",
   "name": "python3"
  },
  "language_info": {
   "codemirror_mode": {
    "name": "ipython",
    "version": 3
   },
   "file_extension": ".py",
   "mimetype": "text/x-python",
   "name": "python",
   "nbconvert_exporter": "python",
   "pygments_lexer": "ipython3",
   "version": "3.6.0"
  }
 },
 "nbformat": 4,
 "nbformat_minor": 2
}
